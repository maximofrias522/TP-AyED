{
 "cells": [
  {
   "cell_type": "markdown",
   "metadata": {},
   "source": [
    "match dobles \n",
    "\n",
    "likes dados y no recibidos\n",
    "\n",
    "likes recibidos y no dados *"
   ]
  },
  {
   "cell_type": "code",
   "execution_count": 2,
   "metadata": {},
   "outputs": [],
   "source": [
    "# Match dobles\n",
    "\n",
    "import random \n",
    "\n",
    "MAX_ESTUDIANTES = 8\n",
    "currentEstudiante = 3 # fila del estudiante\n",
    "\n",
    "likes = [[random.choice(['0', '1']) for _ in range(MAX_ESTUDIANTES)] for _ in range(MAX_ESTUDIANTES)] # row = recibidos y column = dados\n",
    "\n",
    "def imprimirLikes(likes):\n",
    "    print('Matriz de likes:')\n",
    "    for fila in likes:\n",
    "        print(fila)\n",
    "\n",
    "imprimirLikes(likes)"
   ]
  },
  {
   "cell_type": "code",
   "execution_count": 1,
   "metadata": {},
   "outputs": [],
   "source": [
    "# Likes dados y no recibidos\n",
    "\n",
    "import random \n",
    "\n",
    "MAX_ESTUDIANTES = 8\n",
    "currentEstudiante = 3 # fila del estudiante\n",
    "\n",
    "likes = [[random.choice(['0', '1']) for _ in range(MAX_ESTUDIANTES)] for _ in range(MAX_ESTUDIANTES)] # row = recibidos y column = dados\n",
    "\n",
    "def imprimirLikes(likes):\n",
    "    print('Matriz de likes:')\n",
    "    for fila in likes:\n",
    "        print(fila)\n",
    "\n",
    "imprimirLikes(likes)"
   ]
  },
  {
   "cell_type": "code",
   "execution_count": 8,
   "metadata": {},
   "outputs": [
    {
     "name": "stdout",
     "output_type": "stream",
     "text": [
      "Matriz de likes:\n"
     ]
    },
    {
     "ename": "TypeError",
     "evalue": "can only concatenate str (not \"list\") to str",
     "output_type": "error",
     "traceback": [
      "\u001b[1;31m---------------------------------------------------------------------------\u001b[0m",
      "\u001b[1;31mTypeError\u001b[0m                                 Traceback (most recent call last)",
      "Cell \u001b[1;32mIn[8], line 16\u001b[0m\n\u001b[0;32m     12\u001b[0m     \u001b[38;5;28;01mfor\u001b[39;00m fila \u001b[38;5;129;01min\u001b[39;00m likes:\n\u001b[0;32m     14\u001b[0m         \u001b[38;5;28mprint\u001b[39m(\u001b[38;5;124m'\u001b[39m\u001b[38;5;124mfila\u001b[39m\u001b[38;5;124m'\u001b[39m\u001b[38;5;241m+\u001b[39m fila)\n\u001b[1;32m---> 16\u001b[0m \u001b[43mimprimirLikes\u001b[49m\u001b[43m(\u001b[49m\u001b[43mlikes\u001b[49m\u001b[43m)\u001b[49m\n\u001b[0;32m     18\u001b[0m \u001b[38;5;28;01mdef\u001b[39;00m \u001b[38;5;21mlikesRecibidosNoDados\u001b[39m(likes, currentEstudiante):\n\u001b[0;32m     19\u001b[0m     \u001b[38;5;28mprint\u001b[39m(\u001b[38;5;124m'\u001b[39m\u001b[38;5;130;01m\\n\u001b[39;00m\u001b[38;5;124mQuien recibio likes de quien:\u001b[39m\u001b[38;5;124m'\u001b[39m)\n",
      "Cell \u001b[1;32mIn[8], line 14\u001b[0m, in \u001b[0;36mimprimirLikes\u001b[1;34m(likes)\u001b[0m\n\u001b[0;32m     11\u001b[0m \u001b[38;5;28mprint\u001b[39m(\u001b[38;5;124m'\u001b[39m\u001b[38;5;124mMatriz de likes:\u001b[39m\u001b[38;5;124m'\u001b[39m)\n\u001b[0;32m     12\u001b[0m \u001b[38;5;28;01mfor\u001b[39;00m fila \u001b[38;5;129;01min\u001b[39;00m likes:\n\u001b[1;32m---> 14\u001b[0m     \u001b[38;5;28mprint\u001b[39m(\u001b[38;5;124;43m'\u001b[39;49m\u001b[38;5;124;43mfila\u001b[39;49m\u001b[38;5;124;43m'\u001b[39;49m\u001b[38;5;241;43m+\u001b[39;49m\u001b[43m \u001b[49m\u001b[43mfila\u001b[49m)\n",
      "\u001b[1;31mTypeError\u001b[0m: can only concatenate str (not \"list\") to str"
     ]
    }
   ],
   "source": [
    "# Likes recibidos y no respondidos\n",
    "\n",
    "import random \n",
    "\n",
    "MAX_ESTUDIANTES = 8\n",
    "currentEstudiante = 3 # fila del estudiante\n",
    "\n",
    "likes = [[random.choice(['0', '1']) for _ in range(MAX_ESTUDIANTES)] for _ in range(MAX_ESTUDIANTES)] # row = recibidos y column = dados\n",
    "\n",
    "def imprimirLikes(likes):\n",
    "    print('Matriz de likes:')\n",
    "    for fila in likes:\n",
    "        print(fila)\n",
    "\n",
    "imprimirLikes(likes)\n",
    "\n",
    "def likesRecibidosNoDados(likes, currentEstudiante):\n",
    "    print('\\nQuien recibio likes de quien:')\n",
    "    likes_recibidos = [[] for _ in range(MAX_ESTUDIANTES)]\n",
    "    likes_no_respondidos = [[] for _ in range(MAX_ESTUDIANTES)]\n",
    "\n",
    "    for i in range(MAX_ESTUDIANTES):\n",
    "        for j in range(MAX_ESTUDIANTES):\n",
    "            if likes [j][i] == '1':\n",
    "                nuevos_likes = likes_recibidos[j] + [i]\n",
    "                likes_recibidos[j] = nuevos_likes\n",
    "\n",
    "    for j in range(MAX_ESTUDIANTES):\n",
    "        if likes[j][currentEstudiante] == '1' and likes[currentEstudiante][j] == '0':\n",
    "            nuevos_no_respondidos = likes_no_respondidos[currentEstudiante] + [j]\n",
    "            likes_no_respondidos[currentEstudiante] = nuevos_no_respondidos\n",
    "\n",
    "    return likes_recibidos, likes_no_respondidos\n",
    "\n",
    "likes_recibidos, likes_no_respondidos = likesRecibidosNoDados(likes, currentEstudiante)\n",
    "\n",
    "for idx, likes in enumerate(likes_recibidos):\n",
    "    print(f\"Usuario {idx} tiene likes de: {likes}\")\n",
    "\n",
    "print(f\"\\nLikes no respondidos por estudiante {currentEstudiante}: {likes_no_respondidos[currentEstudiante]}\")\n"
   ]
  }
 ],
 "metadata": {
  "kernelspec": {
   "display_name": "Python 3",
   "language": "python",
   "name": "python3"
  },
  "language_info": {
   "codemirror_mode": {
    "name": "ipython",
    "version": 3
   },
   "file_extension": ".py",
   "mimetype": "text/x-python",
   "name": "python",
   "nbconvert_exporter": "python",
   "pygments_lexer": "ipython3",
   "version": "3.11.4"
  }
 },
 "nbformat": 4,
 "nbformat_minor": 2
}
