{
 "cells": [
  {
   "cell_type": "code",
   "execution_count": null,
   "metadata": {},
   "outputs": [],
   "source": [
    "# importar librerias necesarias\n",
    "import os\n",
    "from random import randint\n",
    "from datetime import datetime\n",
    "from maskpass import askpass"
   ]
  },
  {
   "cell_type": "code",
   "execution_count": null,
   "metadata": {},
   "outputs": [],
   "source": [
    "# declarar arrays estudiantes y moderadores\n",
    "\n",
    "CANT_MAX_ESTUDIANTES = 8 \n",
    "CANT_MAX_MODERADORES = 4 \n",
    "\n",
    "estudiantesLen = 4 # cantidad minima de estudiantes para iniciar sesion # al enviar deben estar en 4\n",
    "estudiantes = [[''] * 6 for _ in range(CANT_MAX_ESTUDIANTES)] # A lo sumo 8 estudiantes con email, nombre, contraseña, fecha de nacimiento, biografía y hobbies como datos\n",
    "# array de maximo 8 filas por 6 columnas (cada columna es un dato, como se menciona en la linea anterior)\n",
    "\n",
    "moderadoresLen = 1 # cantidad minima de moderadores para iniciar sesion # al enviar deben estar en 1\n",
    "moderadores = [[''] * 3 for _ in range(CANT_MAX_MODERADORES)] # A lo sumo 4 moderadores con email, nombre y contraseña como datos\n",
    "# array de maximo 4 filas por 3 columnas (cada columna es un dato, como se menciona en la linea anterior)\n",
    "\n",
    "# valor asignado para sesion no iniciada\n",
    "currentEstudiante = -1\n",
    "currentModerador = -1"
   ]
  },
  {
   "cell_type": "code",
   "execution_count": null,
   "metadata": {},
   "outputs": [],
   "source": [
    "asciiart = '''\n",
    " █████  ████████████████ ██████   █████    ██████   ██████           █████            █████     ███\n",
    "░░███  ░░███░█░░░███░░░█░░██████ ░░███    ░░██████ ██████           ░░███            ░░███     ░███\n",
    " ░███   ░███░   ░███  ░  ░███░███ ░███     ░███░█████░███   ██████  ███████    ██████ ░███████ ░███\n",
    " ░███   ░███    ░███     ░███░░███░███     ░███░░███ ░███  ░░░░░███░░░███░    ███░░███░███░░███░███\n",
    " ░███   ░███    ░███     ░███ ░░██████     ░███ ░░░  ░███   ███████  ░███    ░███ ░░░ ░███ ░███░███\n",
    " ░███   ░███    ░███     ░███  ░░█████     ░███      ░███  ███░░███  ░███ ███░███  ███░███ ░███░░░ \n",
    " ░░████████     █████    █████  ░░█████    █████     █████░░████████ ░░█████ ░░██████ ████ ████████\n",
    "  ░░░░░░░░     ░░░░░    ░░░░░    ░░░░░    ░░░░░     ░░░░░  ░░░░░░░░   ░░░░░   ░░░░░░ ░░░░ ░░░░░░░░ \n",
    "'''"
   ]
  },
  {
   "cell_type": "code",
   "execution_count": null,
   "metadata": {},
   "outputs": [],
   "source": [
    "def buscarEstudiante(email):\n",
    "    index = -1 # Inicializa index como -1. Se usará para almacenar el índice del estudiante encontrado.\n",
    "    \n",
    "    # Recorre todos los estudiantes en la lista estudiantes\n",
    "    for i in range(CANT_MAX_ESTUDIANTES):\n",
    "        # Comprueba si el correo electrónico del estudiante en la posición i coincide con el email buscado\n",
    "        if estudiantes[i][0] == email:\n",
    "            # Si encuentra una coincidencia, actualiza el índice con la posición del estudiante\n",
    "            index = i\n",
    "\n",
    "    # Devuelve el índice del estudiante encontrado o -1 si no se encontró ninguno\n",
    "    return index"
   ]
  },
  {
   "cell_type": "code",
   "execution_count": null,
   "metadata": {},
   "outputs": [],
   "source": [
    "def buscarModerador(email):\n",
    "    index = -1\n",
    "    for i in range(CANT_MAX_MODERADORES):\n",
    "        if moderadores[i][0] == email:\n",
    "            index = i\n",
    "\n",
    "    return index"
   ]
  },
  {
   "cell_type": "code",
   "execution_count": null,
   "metadata": {},
   "outputs": [],
   "source": [
    "def validarContrasenaEstudiante(index):\n",
    "    global currentEstudiante  # Declara que currentEstudiante es una variable global que se puede modificar dentro de la función.\n",
    "    intentos = 3  # Número máximo de intentos permitidos para ingresar la contraseña correctamente.\n",
    "\n",
    "    while intentos > 0:\n",
    "        contrasena = askpass(prompt='Introduzca la contraseña: ')  # Solicita al usuario que ingrese la contraseña.\n",
    "\n",
    "        # Verifica si la contraseña ingresada coincide con la contraseña del estudiante en el índice proporcionado.\n",
    "        if estudiantes[index][2] == contrasena:\n",
    "            currentEstudiante = index  # Establece currentEstudiante como el índice del estudiante válido.\n",
    "            return True  # Devuelve True para indicar que la contraseña es válida y el estudiante está autenticado.\n",
    "\n",
    "        else:\n",
    "            intentos -= 1  # Reduce en uno el número de intentos restantes.\n",
    "            if intentos > 0:\n",
    "                print('Contraseña incorrecta, intente nuevamente.')  # Informa al usuario que la contraseña es incorrecta y puede intentar nuevamente.\n",
    "\n",
    "    # Si se agotan los intentos (intentos == 0), devuelve False para indicar que la autenticación falló.\n",
    "    if intentos == 0:\n",
    "        return False"
   ]
  },
  {
   "cell_type": "code",
   "execution_count": null,
   "metadata": {},
   "outputs": [],
   "source": [
    "def validarContrasenaModerador(index):\n",
    "    global currentModerador\n",
    "    intentos = 3\n",
    "\n",
    "    while intentos > 0:\n",
    "        contrasena = askpass(prompt='Introduzca la contraseña: ')\n",
    "        if moderadores[index][1] == contrasena:\n",
    "            currentModerador = index\n",
    "            return True\n",
    "        else:\n",
    "            intentos -= 1\n",
    "            if intentos > 0:\n",
    "                print('Contraseña incorrecta, intente nuevamente.')\n",
    "\n",
    "    if intentos == 0:\n",
    "        return False"
   ]
  },
  {
   "cell_type": "code",
   "execution_count": null,
   "metadata": {},
   "outputs": [],
   "source": [
    "def iniciarSesion(): # MODULARIZAR ESTA FUNCIÓN\n",
    "    email = input('Introduzca su email: ')\n",
    "    estudiante = buscarEstudiante(email)\n",
    "    moderador = buscarModerador(email)\n",
    "\n",
    "    while estudiante == -1 and moderador == -1:\n",
    "        print('Estudiante no encontrado, intente nuevamente: ')\n",
    "        email = input('Introduzca su email: ')\n",
    "        estudiante = buscarEstudiante(email)\n",
    "        if estudiante == -1:\n",
    "            moderador = buscarModerador(email)\n",
    "\n",
    "    if estudiante != -1 and moderador != -1:\n",
    "        aux = input('Está registrado como estudiante y moderador, presione 0 si desea iniciar como estudiante o 1 si desea iniciar sesión como moderador: ')\n",
    "        while aux != 0 and aux != 1:\n",
    "            opcionInvalida()\n",
    "            aux = input('Está registrado como estudiante y moderador, presione 0 si desea iniciar como estudiante o 1 si desea iniciar sesión como moderador: ')\n",
    "\n",
    "        if aux == 1:\n",
    "            estudiante = -1\n",
    "\n",
    "    if estudiante != -1:\n",
    "        return validarContrasenaEstudiante(estudiante)\n",
    "    else:\n",
    "        return validarContrasenaModerador(moderador)"
   ]
  },
  {
   "cell_type": "code",
   "execution_count": null,
   "metadata": {},
   "outputs": [],
   "source": [
    "def utnMatch():\n",
    "    if estudiantesLen < 4 or moderadoresLen < 1:\n",
    "        print('El inicio de sesión no está disponible.')\n",
    "        continuar()\n",
    "        return\n",
    "    \n",
    "    sesion_iniciada = iniciarSesion()\n",
    "    if not sesion_iniciada: # Si no se inició sesión exitosamente imprime el error y finaliza el programa\n",
    "        print('Se introdujo una contraseña incorrecta 3 veces y finalizó el programa.')\n",
    "        continuar()\n",
    "\n",
    "    else:\n",
    "        menuPrincipal()"
   ]
  },
  {
   "cell_type": "code",
   "execution_count": null,
   "metadata": {},
   "outputs": [],
   "source": [
    "# funciones simples\n",
    "def limpiarPantalla():\n",
    "    os.system('cls' if os.name == 'nt' else 'clear')\n",
    "    print(asciiart)\n",
    "\n",
    "def continuar():\n",
    "    input(\"Presione enter para continuar...\")\n",
    "\n",
    "def opcionInvalida():\n",
    "    print(\"Error: la opcion ingresada no es valida.\")\n",
    "    continuar()\n",
    "\n",
    "def enConstruccion():\n",
    "    limpiarPantalla()\n",
    "    print(\"En construcción.\")\n",
    "    continuar()"
   ]
  },
  {
   "cell_type": "code",
   "execution_count": null,
   "metadata": {},
   "outputs": [],
   "source": [
    "def obtenerEdad(fecha):\n",
    "    fecha = datetime.strptime(fecha, '%d-%m-%Y')\n",
    "    fecha_actual = datetime.today()\n",
    "    edad = fecha_actual.year - fecha.year\n",
    "    if (fecha_actual.month, fecha_actual.day) < (fecha.month, fecha.day): # Si el cumpleaños aún no sucedió le resta 1 a la diferencia de años\n",
    "        edad -= 1\n",
    "    return str(edad)"
   ]
  },
  {
   "cell_type": "code",
   "execution_count": null,
   "metadata": {},
   "outputs": [],
   "source": [
    "def imprimirDatosDeEstudiante(estudiante):\n",
    "    print(\"Nombre: \" + estudiantes[estudiante][1] + \"\\n\" +\n",
    "          \"Fecha de nacimiento: \" + estudiantes[estudiante][3] + \"\\n\" +\n",
    "          \"Edad: \" + obtenerEdad(estudiantes[estudiante][3]) + \"\\n\" +\n",
    "          \"Biografía: \" + estudiantes[estudiante][4] + \"\\n\" +\n",
    "          \"Hobbies: \" + estudiantes[estudiante][5])"
   ]
  },
  {
   "cell_type": "code",
   "execution_count": null,
   "metadata": {},
   "outputs": [],
   "source": [
    "def mostrarEditarDatosPersonales():\n",
    "    limpiarPantalla()\n",
    "    print(\"Estas editando tus datos personales\")\n",
    "    print(\"¿Qué datos deseas editar?\")\n",
    "    print(\"a. Fecha de nacimiento\")\n",
    "    print(\"b. Biografía\")\n",
    "    print(\"c. Hobbies\")\n",
    "    print(\"d. Volver\")"
   ]
  },
  {
   "cell_type": "code",
   "execution_count": null,
   "metadata": {},
   "outputs": [],
   "source": [
    "def obtenerFecha():\n",
    "    formato_correcto = False\n",
    "    while not formato_correcto:\n",
    "        fecha = input(\"Ingrese la nueva fecha de nacimiento (dd-mm-aaaa): \")\n",
    "        try:\n",
    "            dtfecha = datetime.strptime(fecha, \"%d-%m-%Y\")\n",
    "            if dtfecha > datetime.today():\n",
    "                print(\"La fecha introducida no es válida. Intente nuevamente.\") # Si la fecha introducida es del futuro devuelve un mensaje de error\n",
    "            else:\n",
    "                formato_correcto = True\n",
    "\n",
    "        except ValueError as ve:\n",
    "            if \"does not match format\" in str(ve):\n",
    "                print(\"El formato de fecha ingresado es incorrecto. Intente nuevamente.\") # Si la fecha se introdujo en formato incorrecto devuelve un mensaje de error\n",
    "            else:\n",
    "                print(\"Fecha fuera de rango. Intente nuevamente.\") # Si la fecha introducida está fuera de rango devuelve un mensaje de error\n",
    "\n",
    "    return fecha"
   ]
  },
  {
   "cell_type": "code",
   "execution_count": null,
   "metadata": {},
   "outputs": [],
   "source": [
    "def editarFechaNacimiento():\n",
    "    nueva_fecha = obtenerFecha()\n",
    "    estudiantes[currentEstudiante][3] = nueva_fecha\n",
    "\n",
    "    continuar()"
   ]
  },
  {
   "cell_type": "code",
   "execution_count": null,
   "metadata": {},
   "outputs": [],
   "source": [
    "def editarBiografia():\n",
    "    nueva_biografia = input(\"Ingrese la nueva biografía: \")\n",
    "    while nueva_biografia == '':\n",
    "        print('La biografía no puede estar vacía.')\n",
    "        nueva_biografia = input(\"Ingrese la nueva biografía: \")\n",
    "\n",
    "    estudiantes[currentEstudiante][4]\n",
    "    print('Su nueva biografía es: ', nueva_biografia)\n",
    "\n",
    "    continuar()"
   ]
  },
  {
   "cell_type": "code",
   "execution_count": null,
   "metadata": {},
   "outputs": [],
   "source": [
    "def editarHobbies():\n",
    "    nuevo_hobbie = input(\"Ingrese los nuevos hobbies: \")\n",
    "    while nuevo_hobbie == '':\n",
    "        print('Los hobbies no pueden estar vacíos')\n",
    "        nuevo_hobbie = input(\"Ingrese los nuevos hobbies: \")\n",
    "\n",
    "    print(\"Sus nuevos hobbies son: \", nuevo_hobbie)\n",
    "\n",
    "    continuar()"
   ]
  },
  {
   "cell_type": "code",
   "execution_count": null,
   "metadata": {},
   "outputs": [],
   "source": [
    "def editarDatosPersonales():\n",
    "    mostrarEditarDatosPersonales()\n",
    "    opcion = input(\"Seleccione una opción: \")\n",
    "\n",
    "    while opcion != 'd':\n",
    "        if opcion == 'a':\n",
    "            editarFechaNacimiento()\n",
    "        elif opcion == 'b':\n",
    "            editarBiografia()\n",
    "        elif opcion == 'c':\n",
    "            editarHobbies()\n",
    "        else:\n",
    "            opcionInvalida()\n",
    "        \n",
    "        mostrarEditarDatosPersonales()\n",
    "        opcion = input(\"Seleccione una opción: \")"
   ]
  },
  {
   "cell_type": "code",
   "execution_count": null,
   "metadata": {},
   "outputs": [],
   "source": [
    "def mostrarPerfil():\n",
    "    limpiarPantalla()\n",
    "    print(\"Estás viendo tu perfil\")\n",
    "    imprimirDatosDeEstudiante(currentEstudiante)\n",
    "\n",
    "    continuar()"
   ]
  },
  {
   "cell_type": "code",
   "execution_count": null,
   "metadata": {},
   "outputs": [],
   "source": [
    "def eliminarPerfil():\n",
    "    opcion = input('Presione 1 si está seguro de que desea eliminar su perfil o 0 para volver: ')\n",
    "    while opcion != '0' and opcion != '1': \n",
    "        opcionInvalida()\n",
    "        opcion = input('Presione 1 si está seguro de que desea eliminar su perfil o 0 para volver: ')\n",
    "\n",
    "    if opcion == 0:\n",
    "        for dato in estudiantes[currentEstudiante]:\n",
    "            dato = []\n",
    "        print('Sus datos han sido eliminados correctamente')"
   ]
  },
  {
   "cell_type": "code",
   "execution_count": null,
   "metadata": {},
   "outputs": [],
   "source": [
    "def mostrarGEestionarPerfil():\n",
    "    limpiarPantalla()\n",
    "    print(\"Estas gestionando tu perfil\")\n",
    "    print(\"a. Editar mis datos personales\")\n",
    "    print(\"b. Ver mi perfil\")\n",
    "    print(\"c. Eliminar mi perfil\")\n",
    "    print(\"d. Volver\")"
   ]
  },
  {
   "cell_type": "code",
   "execution_count": null,
   "metadata": {},
   "outputs": [],
   "source": [
    "def gestionarPerfil():\n",
    "    mostrarGestionarPerfil()\n",
    "    opcion = input('Seleccione una opción: ')\n",
    "\n",
    "    while opcion != 'd':\n",
    "        if opcion == 'a':\n",
    "            editarDatosPersonales()\n",
    "        elif opcion == 'b':\n",
    "            mostrarPerfil()  \n",
    "        elif opcion == 'c':\n",
    "            eliminarPerfil()\n",
    "        else:\n",
    "            opcionInvalida()\n",
    "\n",
    "        mostrarGestionarPerfil()\n",
    "        opcion = input('Seleccione una opción: ')\n"
   ]
  }
 ],
 "metadata": {
  "language_info": {
   "name": "python"
  }
 },
 "nbformat": 4,
 "nbformat_minor": 2
}
