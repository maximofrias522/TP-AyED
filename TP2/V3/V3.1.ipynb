{
 "cells": [
  {
   "cell_type": "code",
   "execution_count": 2,
   "metadata": {},
   "outputs": [],
   "source": [
    "# importar librerias necesarias\n",
    "import os\n",
    "from random import randint\n",
    "from datetime import datetime\n",
    "from maskpass import askpass"
   ]
  },
  {
   "cell_type": "code",
   "execution_count": 3,
   "metadata": {},
   "outputs": [],
   "source": [
    "# declarar arrays estudiantes y moderadores\n",
    "\n",
    "CANT_MAX_ESTUDIANTES = 8 \n",
    "CANT_MAX_MODERADORES = 4 \n",
    "\n",
    "estudiantesLen = 4 # cantidad minima de estudiantes para iniciar sesion # al enviar deben estar en 4\n",
    "estudiantes = [[''] * 6 for _ in range(CANT_MAX_ESTUDIANTES)] # A lo sumo 8 estudiantes con email, nombre, contraseña, fecha de nacimiento, biografía y hobbies como datos\n",
    "# array de maximo 8 filas por 6 columnas (cada columna es un dato, como se menciona en la linea anterior)\n",
    "\n",
    "moderadoresLen = 1 # cantidad minima de moderadores para iniciar sesion # al enviar deben estar en 1\n",
    "moderadores = [[''] * 3 for _ in range(CANT_MAX_MODERADORES)] # A lo sumo 4 moderadores con email, nombre y contraseña como datos\n",
    "# array de maximo 4 filas por 3 columnas (cada columna es un dato, como se menciona en la linea anterior)\n",
    "\n",
    "# valor asignado para sesion no iniciada\n",
    "currentEstudiante = -1\n",
    "currentModerador = -1"
   ]
  },
  {
   "cell_type": "code",
   "execution_count": 4,
   "metadata": {},
   "outputs": [],
   "source": [
    "asciiart = '''\n",
    " █████  ████████████████ ██████   █████    ██████   ██████           █████            █████     ███\n",
    "░░███  ░░███░█░░░███░░░█░░██████ ░░███    ░░██████ ██████           ░░███            ░░███     ░███\n",
    " ░███   ░███░   ░███  ░  ░███░███ ░███     ░███░█████░███   ██████  ███████    ██████ ░███████ ░███\n",
    " ░███   ░███    ░███     ░███░░███░███     ░███░░███ ░███  ░░░░░███░░░███░    ███░░███░███░░███░███\n",
    " ░███   ░███    ░███     ░███ ░░██████     ░███ ░░░  ░███   ███████  ░███    ░███ ░░░ ░███ ░███░███\n",
    " ░███   ░███    ░███     ░███  ░░█████     ░███      ░███  ███░░███  ░███ ███░███  ███░███ ░███░░░ \n",
    " ░░████████     █████    █████  ░░█████    █████     █████░░████████ ░░█████ ░░██████ ████ ████████\n",
    "  ░░░░░░░░     ░░░░░    ░░░░░    ░░░░░    ░░░░░     ░░░░░  ░░░░░░░░   ░░░░░   ░░░░░░ ░░░░ ░░░░░░░░ \n",
    "'''"
   ]
  },
  {
   "cell_type": "code",
   "execution_count": 5,
   "metadata": {},
   "outputs": [],
   "source": [
    "def buscarEstudiante(email):\n",
    "    index = -1 # Inicializa index como -1. Se usará para almacenar el índice del estudiante encontrado.\n",
    "    \n",
    "    # Recorre todos los estudiantes en la lista estudiantes\n",
    "    for i in range(CANT_MAX_ESTUDIANTES):\n",
    "        # Comprueba si el correo electrónico del estudiante en la posición i coincide con el email buscado\n",
    "        if estudiantes[i][0] == email:\n",
    "            # Si encuentra una coincidencia, actualiza el índice con la posición del estudiante\n",
    "            index = i\n",
    "\n",
    "    # Devuelve el índice del estudiante encontrado o -1 si no se encontró ninguno\n",
    "    return index"
   ]
  },
  {
   "cell_type": "code",
   "execution_count": 6,
   "metadata": {},
   "outputs": [],
   "source": [
    "def buscarModerador(email):\n",
    "    index = -1\n",
    "    for i in range(CANT_MAX_MODERADORES):\n",
    "        if moderadores[i][0] == email:\n",
    "            index = i\n",
    "\n",
    "    return index"
   ]
  },
  {
   "cell_type": "code",
   "execution_count": 7,
   "metadata": {},
   "outputs": [],
   "source": [
    "def validarContrasenaEstudiante(index):\n",
    "    global currentEstudiante  # Declara que currentEstudiante es una variable global que se puede modificar dentro de la función.\n",
    "    intentos = 3  # Número máximo de intentos permitidos para ingresar la contraseña correctamente.\n",
    "\n",
    "    while intentos > 0:\n",
    "        contrasena = askpass(prompt='Introduzca la contraseña: ')  # Solicita al usuario que ingrese la contraseña.\n",
    "\n",
    "        # Verifica si la contraseña ingresada coincide con la contraseña del estudiante en el índice proporcionado.\n",
    "        if estudiantes[index][2] == contrasena:\n",
    "            currentEstudiante = index  # Establece currentEstudiante como el índice del estudiante válido.\n",
    "            return True  # Devuelve True para indicar que la contraseña es válida y el estudiante está autenticado.\n",
    "\n",
    "        else:\n",
    "            intentos -= 1  # Reduce en uno el número de intentos restantes.\n",
    "            if intentos > 0:\n",
    "                print('Contraseña incorrecta, intente nuevamente.')  # Informa al usuario que la contraseña es incorrecta y puede intentar nuevamente.\n",
    "\n",
    "    # Si se agotan los intentos (intentos == 0), devuelve False para indicar que la autenticación falló.\n",
    "    if intentos == 0:\n",
    "        return False"
   ]
  },
  {
   "cell_type": "code",
   "execution_count": 8,
   "metadata": {},
   "outputs": [],
   "source": [
    "def validarContrasenaModerador(index):\n",
    "    global currentModerador\n",
    "    intentos = 3\n",
    "\n",
    "    while intentos > 0:\n",
    "        contrasena = askpass(prompt='Introduzca la contraseña: ')\n",
    "        if moderadores[index][1] == contrasena:\n",
    "            currentModerador = index\n",
    "            return True\n",
    "        else:\n",
    "            intentos -= 1\n",
    "            if intentos > 0:\n",
    "                print('Contraseña incorrecta, intente nuevamente.')\n",
    "\n",
    "    if intentos == 0:\n",
    "        return False"
   ]
  },
  {
   "cell_type": "code",
   "execution_count": 9,
   "metadata": {},
   "outputs": [],
   "source": [
    "def iniciarSesion(): # MODULARIZAR ESTA FUNCIÓN\n",
    "    email = input('Introduzca su email: ')\n",
    "    estudiante = buscarEstudiante(email)\n",
    "    moderador = buscarModerador(email)\n",
    "\n",
    "    while estudiante == -1 and moderador == -1:\n",
    "        print('Estudiante no encontrado, intente nuevamente: ')\n",
    "        email = input('Introduzca su email: ')\n",
    "        estudiante = buscarEstudiante(email)\n",
    "        if estudiante == -1:\n",
    "            moderador = buscarModerador(email)\n",
    "\n",
    "    if estudiante != -1 and moderador != -1:\n",
    "        aux = input('Está registrado como estudiante y moderador, presione 0 si desea iniciar como estudiante o 1 si desea iniciar sesión como moderador: ')\n",
    "        while aux != 0 and aux != 1:\n",
    "            opcionInvalida()\n",
    "            aux = input('Está registrado como estudiante y moderador, presione 0 si desea iniciar como estudiante o 1 si desea iniciar sesión como moderador: ')\n",
    "\n",
    "        if aux == 1:\n",
    "            estudiante = -1\n",
    "\n",
    "    if estudiante != -1:\n",
    "        return validarContrasenaEstudiante(estudiante)\n",
    "    else:\n",
    "        return validarContrasenaModerador(moderador)"
   ]
  },
  {
   "cell_type": "code",
   "execution_count": 10,
   "metadata": {},
   "outputs": [],
   "source": [
    "def utnMatch():\n",
    "    if estudiantesLen < 4 or moderadoresLen < 1:\n",
    "        print('El inicio de sesión no está disponible.')\n",
    "        continuar()\n",
    "        return\n",
    "    \n",
    "    sesion_iniciada = iniciarSesion()\n",
    "    if not sesion_iniciada: # Si no se inició sesión exitosamente imprime el error y finaliza el programa\n",
    "        print('Se introdujo una contraseña incorrecta 3 veces y finalizó el programa.')\n",
    "        continuar()\n",
    "\n",
    "    else:\n",
    "        menuPrincipal()"
   ]
  },
  {
   "cell_type": "code",
   "execution_count": 11,
   "metadata": {},
   "outputs": [],
   "source": [
    "# funciones simples\n",
    "def limpiarPantalla():\n",
    "    os.system('cls' if os.name == 'nt' else 'clear')\n",
    "    print(asciiart)\n",
    "\n",
    "def continuar():\n",
    "    input(\"Presione enter para continuar...\")\n",
    "\n",
    "def opcionInvalida():\n",
    "    print(\"Error: la opcion ingresada no es valida.\")\n",
    "    continuar()\n",
    "\n",
    "def enConstruccion():\n",
    "    limpiarPantalla()\n",
    "    print(\"En construcción.\")\n",
    "    continuar()"
   ]
  },
  {
   "cell_type": "code",
   "execution_count": 12,
   "metadata": {},
   "outputs": [],
   "source": [
    "def obtenerEdad(fecha):\n",
    "    fecha = datetime.strptime(fecha, '%d-%m-%Y')\n",
    "    fecha_actual = datetime.today()\n",
    "    edad = fecha_actual.year - fecha.year\n",
    "    if (fecha_actual.month, fecha_actual.day) < (fecha.month, fecha.day): # Si el cumpleaños aún no sucedió le resta 1 a la diferencia de años\n",
    "        edad -= 1\n",
    "    return str(edad)"
   ]
  },
  {
   "cell_type": "code",
   "execution_count": 13,
   "metadata": {},
   "outputs": [],
   "source": [
    "def imprimirDatosDeEstudiante(estudiante):\n",
    "    print(\"Nombre: \" + estudiantes[estudiante][1] + \"\\n\" +\n",
    "          \"Fecha de nacimiento: \" + estudiantes[estudiante][3] + \"\\n\" +\n",
    "          \"Edad: \" + obtenerEdad(estudiantes[estudiante][3]) + \"\\n\" +\n",
    "          \"Biografía: \" + estudiantes[estudiante][4] + \"\\n\" +\n",
    "          \"Hobbies: \" + estudiantes[estudiante][5])"
   ]
  },
  {
   "cell_type": "code",
   "execution_count": 14,
   "metadata": {},
   "outputs": [],
   "source": [
    "def mostrarEditarDatosPersonales():\n",
    "    limpiarPantalla()\n",
    "    print(\"Estas editando tus datos personales\")\n",
    "    print(\"¿Qué datos deseas editar?\")\n",
    "    print(\"a. Fecha de nacimiento\")\n",
    "    print(\"b. Biografía\")\n",
    "    print(\"c. Hobbies\")\n",
    "    print(\"d. Volver\")"
   ]
  },
  {
   "cell_type": "code",
   "execution_count": 15,
   "metadata": {},
   "outputs": [],
   "source": [
    "def obtenerFecha():\n",
    "    formato_correcto = False\n",
    "    while not formato_correcto:\n",
    "        fecha = input(\"Ingrese la nueva fecha de nacimiento (dd-mm-aaaa): \")\n",
    "        try:\n",
    "            dtfecha = datetime.strptime(fecha, \"%d-%m-%Y\")\n",
    "            if dtfecha > datetime.today():\n",
    "                print(\"La fecha introducida no es válida. Intente nuevamente.\") # Si la fecha introducida es del futuro devuelve un mensaje de error\n",
    "            else:\n",
    "                formato_correcto = True\n",
    "\n",
    "        except ValueError as ve:\n",
    "            if \"does not match format\" in str(ve):\n",
    "                print(\"El formato de fecha ingresado es incorrecto. Intente nuevamente.\") # Si la fecha se introdujo en formato incorrecto devuelve un mensaje de error\n",
    "            else:\n",
    "                print(\"Fecha fuera de rango. Intente nuevamente.\") # Si la fecha introducida está fuera de rango devuelve un mensaje de error\n",
    "\n",
    "    return fecha"
   ]
  },
  {
   "cell_type": "code",
   "execution_count": 16,
   "metadata": {},
   "outputs": [],
   "source": [
    "def editarFechaNacimiento():\n",
    "    nueva_fecha = obtenerFecha()\n",
    "    estudiantes[currentEstudiante][3] = nueva_fecha\n",
    "\n",
    "    continuar()"
   ]
  },
  {
   "cell_type": "code",
   "execution_count": 17,
   "metadata": {},
   "outputs": [],
   "source": [
    "def editarBiografia():\n",
    "    nueva_biografia = input(\"Ingrese la nueva biografía: \")\n",
    "    while nueva_biografia == '':\n",
    "        print('La biografía no puede estar vacía.')\n",
    "        nueva_biografia = input(\"Ingrese la nueva biografía: \")\n",
    "\n",
    "    estudiantes[currentEstudiante][4]\n",
    "    print('Su nueva biografía es: ', nueva_biografia)\n",
    "\n",
    "    continuar()"
   ]
  },
  {
   "cell_type": "code",
   "execution_count": 18,
   "metadata": {},
   "outputs": [],
   "source": [
    "def editarHobbies():\n",
    "    nuevo_hobbie = input(\"Ingrese los nuevos hobbies: \")\n",
    "    while nuevo_hobbie == '':\n",
    "        print('Los hobbies no pueden estar vacíos')\n",
    "        nuevo_hobbie = input(\"Ingrese los nuevos hobbies: \")\n",
    "\n",
    "    print(\"Sus nuevos hobbies son: \", nuevo_hobbie)\n",
    "\n",
    "    continuar()"
   ]
  },
  {
   "cell_type": "code",
   "execution_count": 19,
   "metadata": {},
   "outputs": [],
   "source": [
    "def editarDatosPersonales():\n",
    "    mostrarEditarDatosPersonales()\n",
    "    opcion = input(\"Seleccione una opción: \")\n",
    "\n",
    "    while opcion != 'd':\n",
    "        if opcion == 'a':\n",
    "            editarFechaNacimiento()\n",
    "        elif opcion == 'b':\n",
    "            editarBiografia()\n",
    "        elif opcion == 'c':\n",
    "            editarHobbies()\n",
    "        else:\n",
    "            opcionInvalida()\n",
    "        \n",
    "        mostrarEditarDatosPersonales()\n",
    "        opcion = input(\"Seleccione una opción: \")"
   ]
  },
  {
   "cell_type": "code",
   "execution_count": 20,
   "metadata": {},
   "outputs": [],
   "source": [
    "def mostrarPerfil():\n",
    "    limpiarPantalla()\n",
    "    print(\"Estás viendo tu perfil\")\n",
    "    imprimirDatosDeEstudiante(currentEstudiante)\n",
    "\n",
    "    continuar()"
   ]
  },
  {
   "cell_type": "code",
   "execution_count": 21,
   "metadata": {},
   "outputs": [],
   "source": [
    "def eliminarPerfil():\n",
    "    opcion = input('Presione 1 si está seguro de que desea eliminar su perfil o 0 para volver: ')\n",
    "    while opcion != '0' and opcion != '1': \n",
    "        opcionInvalida()\n",
    "        opcion = input('Presione 1 si está seguro de que desea eliminar su perfil o 0 para volver: ')\n",
    "\n",
    "    if opcion == 0:\n",
    "        for dato in estudiantes[currentEstudiante]:\n",
    "            dato = []\n",
    "        print('Sus datos han sido eliminados correctamente')"
   ]
  },
  {
   "cell_type": "code",
   "execution_count": 22,
   "metadata": {},
   "outputs": [],
   "source": [
    "def mostrarGestionarPerfil():\n",
    "    limpiarPantalla()\n",
    "    print(\"Estas gestionando tu perfil\")\n",
    "    print(\"a. Editar mis datos personales\")\n",
    "    print(\"b. Ver mi perfil\")\n",
    "    print(\"c. Eliminar mi perfil\")\n",
    "    print(\"d. Volver\")\n",
    "\n",
    "def gestionarPerfil():\n",
    "    mostrarGestionarPerfil()\n",
    "    opcion = input('Seleccione una opción: ')\n",
    "\n",
    "    while opcion != 'd':\n",
    "        if opcion == 'a':\n",
    "            editarDatosPersonales()\n",
    "        elif opcion == 'b':\n",
    "            mostrarPerfil()  \n",
    "        elif opcion == 'c':\n",
    "            eliminarPerfil()\n",
    "        else:\n",
    "            opcionInvalida()\n",
    "\n",
    "        mostrarGestionarPerfil()\n",
    "        opcion = input('Seleccione una opción: ')\n"
   ]
  },
  {
   "cell_type": "code",
   "execution_count": 23,
   "metadata": {},
   "outputs": [],
   "source": [
    "def mostrarGestionarCandidatos():\n",
    "    limpiarPantalla()\n",
    "    print(\"Gestionando candidatos\")\n",
    "    print(\"a. Ver candidatos disponibles\")\n",
    "    print(\"b. Contactar candidatos\")\n",
    "    print(\"c. Volver\")\n",
    "    \n",
    "def gestionarCandidatos():\n",
    "    mostrarGestionarCandidatos()\n",
    "    opcion = input('Seleccione una opción: ')\n",
    "    \n",
    "    while opcion != 'c':\n",
    "        if opcion == 'a':\n",
    "            verCandidatos()\n",
    "        elif opcion == 'b':\n",
    "            enConstruccion()\n",
    "        else:\n",
    "            opcionInvalida()\n",
    "\n",
    "        mostrarGestionarCandidatos()\n",
    "        opcion = input('Seleccione una opción: ')"
   ]
  },
  {
   "cell_type": "code",
   "execution_count": 24,
   "metadata": {},
   "outputs": [],
   "source": [
    "def mostrarMenuPrincipal():\n",
    "    limpiarPantalla()\n",
    "    print(\"Bienvenido, \", estudiantes[currentEstudiante][1])\n",
    "    print(\"Menú Principal:\")\n",
    "    print(\"1. Gestionar mi perfil\")\n",
    "    print(\"2. Gestionar candidatos\")\n",
    "    print(\"3. Matcheos\")\n",
    "    print(\"4. Reportes estadísticos\")\n",
    "    print(\"5. Ruleta\")\n",
    "    print(\"0. Salir del programa\")\n",
    "    \n",
    "def menuPrincipal():\n",
    "    mostrarMenuPrincipal()\n",
    "    opcion = input('Seleccione una opción: ')\n",
    "    \n",
    "    while opcion != '0':\n",
    "        if opcion == '1':\n",
    "            gestionarPerfil()\n",
    "        elif opcion == '2':\n",
    "            gestionarCandidatos()\n",
    "        elif opcion == '3':\n",
    "            enConstruccion()\n",
    "        elif opcion == '4':\n",
    "            enConstruccion()\n",
    "        else:\n",
    "            opcionInvalida()\n",
    "\n",
    "        mostrarMenuPrincipal()\n",
    "        opcion = input('Seleccione una opción: ')"
   ]
  },
  {
   "cell_type": "code",
   "execution_count": 25,
   "metadata": {},
   "outputs": [],
   "source": [
    "def verCandidatos():\n",
    "    enConstruccion()"
   ]
  },
  {
   "cell_type": "code",
   "execution_count": 26,
   "metadata": {},
   "outputs": [],
   "source": [
    "def mostrarGestionarPerfil():\n",
    "    enConstruccion()"
   ]
  },
  {
   "cell_type": "code",
   "execution_count": 27,
   "metadata": {},
   "outputs": [],
   "source": [
    "def registrarEstudiante(): # MODULARIZAR ESTA FUNCIÓN\n",
    "    global estudiantesLen, estudiantes\n",
    "    if estudiantesLen == 8:\n",
    "        print('El registro de estudiantes no está disponible')\n",
    "        continuar()\n",
    "        return\n",
    "    \n",
    "    datosEstudiante = [''] * 6\n",
    "    datosEstudiante[0] = input('Introduzca su email: ')\n",
    "    \n",
    "    aux = 0\n",
    "    while aux < estudiantesLen:\n",
    "        if estudiantes[aux][0] == datosEstudiante[0]:\n",
    "            aux = -1\n",
    "            print('El estudiante ya está registrado.')\n",
    "            continuar()\n",
    "            return\n",
    "        aux += 1\n",
    "\n",
    "    datosEstudiante[1] = input('Introduzca su nombre: ')\n",
    "    datosEstudiante[2] = input('Introduzca la contraseña: ')\n",
    "    datosEstudiante[3] = input('Introduzca su fecha de nacimiento: ') # Añadir validación de fecha de nacimiento\n",
    "    datosEstudiante[4] = input('Introduzca su biografía: ')\n",
    "    datosEstudiante[5] = input('Introduzca sus hobbies: ')\n",
    "\n",
    "    index = buscarEstudiante('')\n",
    "\n",
    "    estudiantes[index] = datosEstudiante\n",
    "    estudiantesLen += 1\n",
    "\n",
    "    print('El estudiante se registró exitosamente.')\n",
    "    continuar()"
   ]
  },
  {
   "cell_type": "code",
   "execution_count": 28,
   "metadata": {},
   "outputs": [],
   "source": [
    "def registrarModerador(): # MODULARIZAR\n",
    "    global moderadoresLen, moderadores\n",
    "    datosModerador = [''] * 3\n",
    "    datosModerador[0] = input('Introduzca su email: ')\n",
    "\n",
    "    aux = 0\n",
    "    while aux < moderadoresLen:\n",
    "        if estudiantes[aux][0] == datosModerador[0]:\n",
    "            print('El moderador ya está registrado.')\n",
    "            continuar()\n",
    "            return\n",
    "        aux += 1\n",
    "\n",
    "    datosModerador[1] = input('Introduzca su nombre: ')\n",
    "    datosModerador[2] = input('Introduzca la contraseña: ')\n",
    "\n",
    "    index = buscarModerador('')\n",
    "\n",
    "    moderadores[index] = datosModerador\n",
    "    moderadoresLen += 1\n",
    "\n",
    "    print('El moderador se registró exitosamente.')\n",
    "    continuar()"
   ]
  },
  {
   "cell_type": "code",
   "execution_count": 29,
   "metadata": {},
   "outputs": [],
   "source": [
    "def mostrarRegistrarse():\n",
    "    limpiarPantalla()\n",
    "    print('a. Registrarse como estudiante')\n",
    "    print('b. Registrarse como moderador')\n",
    "    print('c. Volver')\n",
    "\n",
    "def registrarse():\n",
    "    mostrarRegistrarse()\n",
    "    opcion = input('Seleccione una opción: ')\n",
    "\n",
    "    while opcion != 'c':\n",
    "        if opcion == 'a':\n",
    "            registrarEstudiante()\n",
    "        elif opcion == 'b':\n",
    "            registrarModerador()\n",
    "        else:\n",
    "            opcionInvalida()\n",
    "        \n",
    "\n",
    "        mostrarRegistrarse()\n",
    "        opcion = input('Seleccione una opción: ')"
   ]
  },
  {
   "cell_type": "code",
   "execution_count": 30,
   "metadata": {},
   "outputs": [
    {
     "name": "stdout",
     "output_type": "stream",
     "text": [
      "\u001b[H\u001b[2J\n",
      " █████  ████████████████ ██████   █████    ██████   ██████           █████            █████     ███\n",
      "░░███  ░░███░█░░░███░░░█░░██████ ░░███    ░░██████ ██████           ░░███            ░░███     ░███\n",
      " ░███   ░███░   ░███  ░  ░███░███ ░███     ░███░█████░███   ██████  ███████    ██████ ░███████ ░███\n",
      " ░███   ░███    ░███     ░███░░███░███     ░███░░███ ░███  ░░░░░███░░░███░    ███░░███░███░░███░███\n",
      " ░███   ░███    ░███     ░███ ░░██████     ░███ ░░░  ░███   ███████  ░███    ░███ ░░░ ░███ ░███░███\n",
      " ░███   ░███    ░███     ░███  ░░█████     ░███      ░███  ███░░███  ░███ ███░███  ███░███ ░███░░░ \n",
      " ░░████████     █████    █████  ░░█████    █████     █████░░████████ ░░█████ ░░██████ ████ ████████\n",
      "  ░░░░░░░░     ░░░░░    ░░░░░    ░░░░░    ░░░░░     ░░░░░  ░░░░░░░░   ░░░░░   ░░░░░░ ░░░░ ░░░░░░░░ \n",
      "\n",
      "1. Iniciar sesión\n",
      "2. Registrarse\n",
      "0. Salir\n"
     ]
    },
    {
     "ename": "KeyboardInterrupt",
     "evalue": "Interrupted by user",
     "output_type": "error",
     "traceback": [
      "\u001b[0;31m---------------------------------------------------------------------------\u001b[0m",
      "\u001b[0;31mKeyboardInterrupt\u001b[0m                         Traceback (most recent call last)",
      "Input \u001b[0;32mIn [30]\u001b[0m, in \u001b[0;36m<cell line: 24>\u001b[0;34m()\u001b[0m\n\u001b[1;32m     20\u001b[0m         mostrarMenuInicial()\n\u001b[1;32m     21\u001b[0m         opcion \u001b[38;5;241m=\u001b[39m \u001b[38;5;28minput\u001b[39m(\u001b[38;5;124m'\u001b[39m\u001b[38;5;124mSeleccione una opción: \u001b[39m\u001b[38;5;124m'\u001b[39m)\n\u001b[0;32m---> 24\u001b[0m menuInicial()\n",
      "Input \u001b[0;32mIn [30]\u001b[0m, in \u001b[0;36mmenuInicial\u001b[0;34m()\u001b[0m\n\u001b[1;32m      7\u001b[0m \u001b[38;5;28;01mdef\u001b[39;00m \u001b[38;5;21mmenuInicial\u001b[39m():\n\u001b[1;32m      8\u001b[0m     mostrarMenuInicial()\n\u001b[0;32m----> 9\u001b[0m     opcion \u001b[38;5;241m=\u001b[39m \u001b[38;5;28;43minput\u001b[39;49m\u001b[43m(\u001b[49m\u001b[38;5;124;43m'\u001b[39;49m\u001b[38;5;124;43mSeleccione una opción: \u001b[39;49m\u001b[38;5;124;43m'\u001b[39;49m\u001b[43m)\u001b[49m\n\u001b[1;32m     11\u001b[0m     \u001b[38;5;28;01mwhile\u001b[39;00m opcion \u001b[38;5;241m!=\u001b[39m \u001b[38;5;124m'\u001b[39m\u001b[38;5;124m0\u001b[39m\u001b[38;5;124m'\u001b[39m:\n\u001b[1;32m     12\u001b[0m         \u001b[38;5;28;01mif\u001b[39;00m opcion \u001b[38;5;241m==\u001b[39m \u001b[38;5;124m'\u001b[39m\u001b[38;5;124m1\u001b[39m\u001b[38;5;124m'\u001b[39m:\n",
      "File \u001b[0;32m~/.local/lib/python3.10/site-packages/ipykernel/kernelbase.py:1282\u001b[0m, in \u001b[0;36mKernel.raw_input\u001b[0;34m(self, prompt)\u001b[0m\n\u001b[1;32m   1280\u001b[0m     msg \u001b[38;5;241m=\u001b[39m \u001b[38;5;124m\"\u001b[39m\u001b[38;5;124mraw_input was called, but this frontend does not support input requests.\u001b[39m\u001b[38;5;124m\"\u001b[39m\n\u001b[1;32m   1281\u001b[0m     \u001b[38;5;28;01mraise\u001b[39;00m StdinNotImplementedError(msg)\n\u001b[0;32m-> 1282\u001b[0m \u001b[38;5;28;01mreturn\u001b[39;00m \u001b[38;5;28;43mself\u001b[39;49m\u001b[38;5;241;43m.\u001b[39;49m\u001b[43m_input_request\u001b[49m\u001b[43m(\u001b[49m\n\u001b[1;32m   1283\u001b[0m \u001b[43m    \u001b[49m\u001b[38;5;28;43mstr\u001b[39;49m\u001b[43m(\u001b[49m\u001b[43mprompt\u001b[49m\u001b[43m)\u001b[49m\u001b[43m,\u001b[49m\n\u001b[1;32m   1284\u001b[0m \u001b[43m    \u001b[49m\u001b[38;5;28;43mself\u001b[39;49m\u001b[38;5;241;43m.\u001b[39;49m\u001b[43m_parent_ident\u001b[49m\u001b[43m[\u001b[49m\u001b[38;5;124;43m\"\u001b[39;49m\u001b[38;5;124;43mshell\u001b[39;49m\u001b[38;5;124;43m\"\u001b[39;49m\u001b[43m]\u001b[49m\u001b[43m,\u001b[49m\n\u001b[1;32m   1285\u001b[0m \u001b[43m    \u001b[49m\u001b[38;5;28;43mself\u001b[39;49m\u001b[38;5;241;43m.\u001b[39;49m\u001b[43mget_parent\u001b[49m\u001b[43m(\u001b[49m\u001b[38;5;124;43m\"\u001b[39;49m\u001b[38;5;124;43mshell\u001b[39;49m\u001b[38;5;124;43m\"\u001b[39;49m\u001b[43m)\u001b[49m\u001b[43m,\u001b[49m\n\u001b[1;32m   1286\u001b[0m \u001b[43m    \u001b[49m\u001b[43mpassword\u001b[49m\u001b[38;5;241;43m=\u001b[39;49m\u001b[38;5;28;43;01mFalse\u001b[39;49;00m\u001b[43m,\u001b[49m\n\u001b[1;32m   1287\u001b[0m \u001b[43m\u001b[49m\u001b[43m)\u001b[49m\n",
      "File \u001b[0;32m~/.local/lib/python3.10/site-packages/ipykernel/kernelbase.py:1325\u001b[0m, in \u001b[0;36mKernel._input_request\u001b[0;34m(self, prompt, ident, parent, password)\u001b[0m\n\u001b[1;32m   1322\u001b[0m \u001b[38;5;28;01mexcept\u001b[39;00m \u001b[38;5;167;01mKeyboardInterrupt\u001b[39;00m:\n\u001b[1;32m   1323\u001b[0m     \u001b[38;5;66;03m# re-raise KeyboardInterrupt, to truncate traceback\u001b[39;00m\n\u001b[1;32m   1324\u001b[0m     msg \u001b[38;5;241m=\u001b[39m \u001b[38;5;124m\"\u001b[39m\u001b[38;5;124mInterrupted by user\u001b[39m\u001b[38;5;124m\"\u001b[39m\n\u001b[0;32m-> 1325\u001b[0m     \u001b[38;5;28;01mraise\u001b[39;00m \u001b[38;5;167;01mKeyboardInterrupt\u001b[39;00m(msg) \u001b[38;5;28;01mfrom\u001b[39;00m \u001b[38;5;28mNone\u001b[39m\n\u001b[1;32m   1326\u001b[0m \u001b[38;5;28;01mexcept\u001b[39;00m \u001b[38;5;167;01mException\u001b[39;00m:\n\u001b[1;32m   1327\u001b[0m     \u001b[38;5;28mself\u001b[39m\u001b[38;5;241m.\u001b[39mlog\u001b[38;5;241m.\u001b[39mwarning(\u001b[38;5;124m\"\u001b[39m\u001b[38;5;124mInvalid Message:\u001b[39m\u001b[38;5;124m\"\u001b[39m, exc_info\u001b[38;5;241m=\u001b[39m\u001b[38;5;28;01mTrue\u001b[39;00m)\n",
      "\u001b[0;31mKeyboardInterrupt\u001b[0m: Interrupted by user"
     ]
    }
   ],
   "source": [
    "def mostrarMenuInicial():\n",
    "    limpiarPantalla()\n",
    "    print('1. Iniciar sesión')\n",
    "    print('2. Registrarse')\n",
    "    print('0. Salir')\n",
    "\n",
    "def menuInicial():\n",
    "    mostrarMenuInicial()\n",
    "    opcion = input('Seleccione una opción: ')\n",
    "\n",
    "    while opcion != '0':\n",
    "        if opcion == '1':\n",
    "            utnMatch()\n",
    "        elif opcion == '2':\n",
    "            registrarse()\n",
    "        else:\n",
    "            opcionInvalida()\n",
    "        \n",
    "\n",
    "        mostrarMenuInicial()\n",
    "        opcion = input('Seleccione una opción: ')\n",
    "\n",
    "\n",
    "menuInicial()"
   ]
  },
  {
   "cell_type": "code",
   "execution_count": null,
   "metadata": {},
   "outputs": [],
   "source": [
    "def bonus_track_1():\n",
    "    index = 0\n",
    "    edades = [0] * estudiantesLen\n",
    "    for est in estudiantes: # se obtienen todas las edades\n",
    "        if est[0] != '':\n",
    "            edades[index] = obtenerEdad(est[3])\n",
    "            index += 1\n",
    "\n",
    "    for i in range(estudiantesLen): # se ordena el arreglo\n",
    "        for j in range(0, estudiantesLen-i-1):\n",
    "            if edades[j] > edades[j+1]:\n",
    "                aux = edades[j+1]\n",
    "                edades[j+1] = edades[j]\n",
    "                edades[j] = aux\n",
    "\n",
    "    for i in range(estudiantesLen):\n",
    "        if edades[i] + 1 != edades[i + 1]:\n",
    "            print(f'Existe un hueco entre {edades[i]} y {edades[i+1]}')\n"
   ]
  },
  {
   "cell_type": "code",
   "execution_count": null,
   "metadata": {},
   "outputs": [],
   "source": [
    "def bonus_track_2(): # lógica: el primer estudiante puede matchear con estudiantesLen -1 estudiante (todos menos él mismo),\n",
    "                     # el segundo también tiene estudiantesLen -1 matcheos disponibles pero no se cuenta el matcheo que se\n",
    "                     # registró con el primer estudiante, se puede probar que la secuencia es\n",
    "                     # e_n = estudiantesLen - n, estudiantesLen >= n >= 1\n",
    "    acum = 0\n",
    "    for i in range(estudiantesLen):\n",
    "        acum += estudiantesLen - i\n",
    "\n",
    "    print(f'Hay {acum} matcheos posibles')"
   ]
  },
  {
   "cell_type": "code",
   "execution_count": 3,
   "metadata": {},
   "outputs": [
    {
     "name": "stdout",
     "output_type": "stream",
     "text": [
      "[[1, 0, 0, 0, 0, 0, 1, 1], [0, 1, 1, 0, 0, 0, 0, 1], [1, 0, 1, 0, 0, 0, 0, 0], [1, 0, 0, 1, 0, 1, 0, 0], [1, 0, 1, 0, 0, 0, 1, 1], [1, 1, 0, 1, 1, 1, 0, 0], [1, 0, 0, 0, 1, 0, 0, 1], [1, 1, 0, 0, 0, 0, 1, 1]]\n"
     ]
    }
   ],
   "source": [
    "import random\n",
    "\n",
    "CANT_MAX_ESTUDIANTES = 8\n",
    "likes = [[random.randint(0, 1) for _ in range(8)] for _ in range(CANT_MAX_ESTUDIANTES)] # crea una matriz de 8x8 y la llena aleatoriamente de 0s y 1s\n",
    "print(likes)"
   ]
  },
  {
   "cell_type": "code",
   "execution_count": 5,
   "metadata": {},
   "outputs": [
    {
     "name": "stdout",
     "output_type": "stream",
     "text": [
      "Nombre: Juan\n",
      "Email: juan@email.com\n",
      "Fecha de Nacimiento: 1990-01-01\n",
      "Biografía: Lorem ipsum dolor sit amet\n",
      "Hobbies: Fútbol\n",
      "--------------------\n",
      "Nombre: Pedro\n",
      "Email: pedro@email.com\n",
      "Fecha de Nacimiento: 1988-12-20\n",
      "Biografía: Pellentesque habitant morbi tristique\n",
      "Hobbies: Música\n",
      "--------------------\n",
      "Nombre: Ana\n",
      "Email: ana@email.com\n",
      "Fecha de Nacimiento: 1992-08-10\n",
      "Biografía: Suspendisse potenti\n",
      "Hobbies: Arte\n",
      "--------------------\n"
     ]
    }
   ],
   "source": [
    "def imprimirDatosDeEstudiantes(estudiantes, currentEstudiante):\n",
    "    for idx, estudiante in enumerate(estudiantes):\n",
    "        if idx != currentEstudiante:\n",
    "            nombre = estudiante[0]\n",
    "            email = estudiante[1]\n",
    "            fecha_nacimiento = estudiante[3]\n",
    "            biografia = estudiante[4]\n",
    "            hobbies = estudiante[5]\n",
    "\n",
    "            print(f\"Nombre: {nombre}\")\n",
    "            print(f\"Email: {email}\")\n",
    "            print(f\"Fecha de Nacimiento: {fecha_nacimiento}\")\n",
    "            # print(f\"Edad: {obtenerEdad(fecha_nacimiento)}\")  # Suponiendo que tienes una función obtenerEdad implementada\n",
    "            print(f\"Biografía: {biografia}\")\n",
    "            print(f\"Hobbies: {hobbies}\")\n",
    "            print(\"-\" * 20)  # Separador entre estudiantes\n",
    "\n",
    "# Ejemplo de uso:\n",
    "estudiantes = [\n",
    "    [\"Juan\", \"juan@email.com\", \"contraseña1\", \"1990-01-01\", \"Lorem ipsum dolor sit amet\", \"Fútbol\"],\n",
    "    [\"María\", \"maria@email.com\", \"contraseña2\", \"1995-05-15\", \"Consectetur adipiscing elit\", \"Lectura\"],\n",
    "    [\"Pedro\", \"pedro@email.com\", \"contraseña3\", \"1988-12-20\", \"Pellentesque habitant morbi tristique\", \"Música\"],\n",
    "    [\"Ana\", \"ana@email.com\", \"contraseña4\", \"1992-08-10\", \"Suspendisse potenti\", \"Arte\"]\n",
    "]\n",
    "\n",
    "currentEstudiante = 1  # Ejemplo: se debe ajustar según tu lógica de aplicación\n",
    "imprimirDatosDeEstudiantes(estudiantes, currentEstudiante)\n"
   ]
  },
  {
   "cell_type": "code",
   "execution_count": 5,
   "metadata": {},
   "outputs": [
    {
     "name": "stdout",
     "output_type": "stream",
     "text": [
      "01\n",
      "02\n",
      "03\n",
      "04\n",
      "05\n",
      "06\n",
      "07\n",
      "08\n"
     ]
    }
   ],
   "source": [
    "CANT_MAX_ESTUDIANTES = 8\n",
    "estudiantesLen = 4 # cantidad minima de estudiantes para iniciar sesion\n",
    "estudiantes = [[''] * 7 for _ in range(CANT_MAX_ESTUDIANTES)] # A lo sumo 8 estudiantes con email, nombre, contraseña, fecha de nacimiento, biografía, hobbies, id como datos\n",
    "\n",
    "# Generador de IDs autoincrementales\n",
    "for idx in range(CANT_MAX_ESTUDIANTES):\n",
    "    estudiantes[idx][6] = f\"{idx + 1:02d}\"  # Genera IDs en formato \"01\", \"02\", ..., \"08\"\n",
    "\n",
    "# Imprimir los IDs de los estudiantes\n",
    "for i in estudiantes:\n",
    "    print(i[6])\n",
    "\n"
   ]
  }
 ],
 "metadata": {
  "kernelspec": {
   "display_name": "Python 3",
   "language": "python",
   "name": "python3"
  },
  "language_info": {
   "codemirror_mode": {
    "name": "ipython",
    "version": 3
   },
   "file_extension": ".py",
   "mimetype": "text/x-python",
   "name": "python",
   "nbconvert_exporter": "python",
   "pygments_lexer": "ipython3",
   "version": "3.10.11"
  }
 },
 "nbformat": 4,
 "nbformat_minor": 2
}
